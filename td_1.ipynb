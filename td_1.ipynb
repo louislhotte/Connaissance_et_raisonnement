{
 "cells": [
  {
   "cell_type": "markdown",
   "metadata": {},
   "source": [
    "# I - Problem 1 (TD 1)"
   ]
  },
  {
   "cell_type": "markdown",
   "metadata": {},
   "source": [
    "## 1 - Linear version"
   ]
  },
  {
   "cell_type": "code",
   "execution_count": 1,
   "metadata": {},
   "outputs": [],
   "source": [
    "from gurobipy import Model, GRB"
   ]
  },
  {
   "cell_type": "code",
   "execution_count": 2,
   "metadata": {},
   "outputs": [
    {
     "name": "stdout",
     "output_type": "stream",
     "text": [
      "Restricted license - for non-production use only - expires 2026-11-23\n",
      "La base de connaissances est cohérente.\n",
      "Un modèle trouvé (monde peuplé de licornes) :\n",
      "Mythique: 0, Mortelle: 1, Mammifère: 1, Corne: 1, Magique: 1\n",
      "Peut-on déduire que la licorne a une corne ? Oui\n",
      "Peut-on déduire qu'elle n'a pas de corne ? Oui\n"
     ]
    }
   ],
   "source": [
    "model = Model(\"Unicorn SAT\")\n",
    "model.setParam(\"OutputFlag\", 0)\n",
    "\n",
    "# Définir les variables booléennes (1: vrai, 0: faux)\n",
    "mythique = model.addVar(vtype=GRB.BINARY, name=\"mythique\")\n",
    "mortelle = model.addVar(vtype=GRB.BINARY, name=\"mortelle\")\n",
    "mammifere = model.addVar(vtype=GRB.BINARY, name=\"mammifere\")\n",
    "corne = model.addVar(vtype=GRB.BINARY, name=\"corne\")\n",
    "magique = model.addVar(vtype=GRB.BINARY, name=\"magique\")\n",
    "\n",
    "# Ajouter les contraintes de la base de connaissances\n",
    "model.addConstr((1 - mythique) + (1 - mortelle) >= 1, \"C1\")  # -1 -2 0\n",
    "model.addConstr(mythique + mortelle >= 1, \"C2\")              # 1 2 0\n",
    "model.addConstr(mythique + mammifere >= 1, \"C3\")            # 1 3 0\n",
    "model.addConstr((1 - mammifere) + corne >= 1, \"C4\")         # -3 4 0\n",
    "model.addConstr(mortelle + corne >= 1, \"C5\")                # 2 4 0\n",
    "model.addConstr((1 - corne) + magique >= 1, \"C6\")           # -4 5 0\n",
    "\n",
    "# Optimiser le modèle\n",
    "model.optimize()\n",
    "\n",
    "# Vérifier la cohérence de la base de connaissances\n",
    "if model.status == GRB.OPTIMAL:\n",
    "    print(\"La base de connaissances est cohérente.\")\n",
    "    print(\"Un modèle trouvé (monde peuplé de licornes) :\")\n",
    "    print(f\"Mythique: {int(mythique.x)}, Mortelle: {int(mortelle.x)}, Mammifère: {int(mammifere.x)}, Corne: {int(corne.x)}, Magique: {int(magique.x)}\")\n",
    "\n",
    "    # Vérifier si la licorne a une corne\n",
    "    corne.setAttr(GRB.Attr.LB, 1)  # Fixer la variable \"corne\" à 1\n",
    "    model.optimize()\n",
    "    has_horn = (model.status == GRB.OPTIMAL)\n",
    "\n",
    "    # Vérifier si la licorne n'a pas de corne\n",
    "    corne.setAttr(GRB.Attr.LB, 0) \n",
    "    model.optimize()\n",
    "    no_horn = (model.status == GRB.OPTIMAL)\n",
    "\n",
    "    print(\"Peut-on déduire que la licorne a une corne ?\", \"Oui\" if has_horn else \"Non\")\n",
    "    print(\"Peut-on déduire qu'elle n'a pas de corne ?\", \"Oui\" if no_horn else \"Non\")\n",
    "else:\n",
    "    print(\"La base de connaissances est incohérente.\")\n"
   ]
  },
  {
   "cell_type": "markdown",
   "metadata": {},
   "source": [
    "## 2 - Gophersat"
   ]
  },
  {
   "cell_type": "code",
   "execution_count": null,
   "metadata": {},
   "outputs": [
    {
     "name": "stdout",
     "output_type": "stream",
     "text": [
      "Résultat brut de Gophersat :\n",
      "c solving licorne.cnf\n",
      "s SATISFIABLE\n",
      "v -1 2 3 4 5 0\n",
      "\n",
      "La base de connaissances est cohérente.\n",
      "Un modèle trouvé :\n",
      "v -1 2 3 4 5 0\n"
     ]
    }
   ],
   "source": [
    "import subprocess\n",
    "\n",
    "# Écrire le fichier DIMACS pour le problème de la licorne\n",
    "with open(\"licorne.cnf\", \"w\") as f:\n",
    "    f.write(\"p cnf 5 6\\n\")\n",
    "    f.write(\"-1 -2 0\\n\")\n",
    "    f.write(\"1 2 0\\n\")\n",
    "    f.write(\"1 3 0\\n\")\n",
    "    f.write(\"-3 4 0\\n\")\n",
    "    f.write(\"2 4 0\\n\")\n",
    "    f.write(\"-4 5 0\\n\")\n",
    "\n",
    "# Exécuter Gophersat avec subprocess\n",
    "try:\n",
    "    result = subprocess.run(\n",
    "        [\"../gophersat\", \"licorne.cnf\"], \n",
    "        text=True, capture_output=True, check=True\n",
    "    )\n",
    "    # Afficher le résultat brut\n",
    "    print(\"Résultat brut de Gophersat :\")\n",
    "    print(result.stdout)\n",
    "\n",
    "    # Analyser le résultat pour voir si le problème est satisfaisable\n",
    "    if \"s SATISFIABLE\" in result.stdout:\n",
    "        print(\"La base de connaissances est cohérente.\")\n",
    "        # Extraire le modèle si satisfaisable\n",
    "        start_index = result.stdout.find(\"v \")\n",
    "        if start_index != -1:\n",
    "            model = result.stdout[start_index:].strip()\n",
    "            print(\"Un modèle trouvé :\")\n",
    "            print(model)\n",
    "    else:\n",
    "        print(\"La base de connaissances est incohérente.\")\n",
    "except subprocess.CalledProcessError as e:\n",
    "    print(\"Erreur lors de l'exécution de Gophersat :\", e)"
   ]
  },
  {
   "cell_type": "markdown",
   "metadata": {},
   "source": [
    "# Problème II - Graphes"
   ]
  }
 ],
 "metadata": {
  "kernelspec": {
   "display_name": "Python 3",
   "language": "python",
   "name": "python3"
  },
  "language_info": {
   "codemirror_mode": {
    "name": "ipython",
    "version": 3
   },
   "file_extension": ".py",
   "mimetype": "text/x-python",
   "name": "python",
   "nbconvert_exporter": "python",
   "pygments_lexer": "ipython3",
   "version": "3.11.7"
  }
 },
 "nbformat": 4,
 "nbformat_minor": 2
}
