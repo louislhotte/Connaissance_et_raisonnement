{
 "cells": [
  {
   "cell_type": "markdown",
   "metadata": {},
   "source": [
    "# Formalizing arguments - Example"
   ]
  },
  {
   "cell_type": "markdown",
   "metadata": {},
   "source": [
    "k ^ f\n",
    "k ^ s (certainly)\n",
    "L ^ T\n",
    "M ^ s\n",
    "P ^ s\n",
    "k ^ lh ^ lipstick\n",
    "\n",
    "\n"
   ]
  },
  {
   "cell_type": "code",
   "execution_count": null,
   "metadata": {},
   "outputs": [],
   "source": []
  }
 ],
 "metadata": {
  "language_info": {
   "name": "python"
  }
 },
 "nbformat": 4,
 "nbformat_minor": 2
}
